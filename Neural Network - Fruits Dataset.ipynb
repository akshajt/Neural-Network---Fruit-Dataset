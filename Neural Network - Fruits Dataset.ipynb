{
 "cells": [
  {
   "cell_type": "markdown",
   "metadata": {},
   "source": [
    "## Dataset"
   ]
  },
  {
   "cell_type": "markdown",
   "metadata": {},
   "source": [
    "https://www.kaggle.com/sriramr/fruits-fresh-and-rotten-for-classification"
   ]
  },
  {
   "cell_type": "markdown",
   "metadata": {},
   "source": [
    "Using pretrained Imagenet model"
   ]
  },
  {
   "cell_type": "code",
   "execution_count": 1,
   "metadata": {},
   "outputs": [],
   "source": [
    "from tensorflow import keras\n",
    "\n",
    "base_model = keras.applications.VGG16(\n",
    "    weights=\"imagenet\",\n",
    "    input_shape=(224, 224, 3),\n",
    "    include_top=False)"
   ]
  },
  {
   "cell_type": "code",
   "execution_count": 2,
   "metadata": {},
   "outputs": [],
   "source": [
    "# Freeze base model\n",
    "base_model.trainable = False"
   ]
  },
  {
   "cell_type": "code",
   "execution_count": 4,
   "metadata": {},
   "outputs": [],
   "source": [
    "inputs = keras.Input(shape=(224,224,3))\n",
    "\n",
    "x = base_model(inputs, training=False)\n",
    "\n",
    "x = keras.layers.GlobalAveragePooling2D()(x)\n",
    "\n",
    "outputs = keras.layers.Dense(6, activation = 'softmax')(x)\n",
    "\n",
    "model = keras.Model(inputs, outputs)"
   ]
  },
  {
   "cell_type": "code",
   "execution_count": 5,
   "metadata": {},
   "outputs": [
    {
     "name": "stdout",
     "output_type": "stream",
     "text": [
      "Model: \"model\"\n",
      "_________________________________________________________________\n",
      "Layer (type)                 Output Shape              Param #   \n",
      "=================================================================\n",
      "input_3 (InputLayer)         [(None, 224, 224, 3)]     0         \n",
      "_________________________________________________________________\n",
      "vgg16 (Model)                (None, 7, 7, 512)         14714688  \n",
      "_________________________________________________________________\n",
      "global_average_pooling2d (Gl (None, 512)               0         \n",
      "_________________________________________________________________\n",
      "dense (Dense)                (None, 6)                 3078      \n",
      "=================================================================\n",
      "Total params: 14,717,766\n",
      "Trainable params: 3,078\n",
      "Non-trainable params: 14,714,688\n",
      "_________________________________________________________________\n"
     ]
    }
   ],
   "source": [
    "model.summary()"
   ]
  },
  {
   "cell_type": "code",
   "execution_count": 6,
   "metadata": {},
   "outputs": [],
   "source": [
    "model.compile(loss = 'categorical_crossentropy' , metrics = ['accuracy'])"
   ]
  },
  {
   "cell_type": "code",
   "execution_count": 7,
   "metadata": {},
   "outputs": [],
   "source": [
    "# Data augmentation\n",
    "from tensorflow.keras.preprocessing.image import ImageDataGenerator\n",
    "\n",
    "datagen = ImageDataGenerator(\n",
    "    rotation_range = 10,\n",
    "    zoom_range=0.1,\n",
    "    width_shift_range=0.1,\n",
    "    height_shift_range=0.1,\n",
    "    horizontal_flip=True,\n",
    "    vertical_flip=False,\n",
    ")"
   ]
  },
  {
   "cell_type": "code",
   "execution_count": 8,
   "metadata": {},
   "outputs": [
    {
     "name": "stdout",
     "output_type": "stream",
     "text": [
      "Found 1182 images belonging to 6 classes.\n",
      "Found 329 images belonging to 6 classes.\n"
     ]
    }
   ],
   "source": [
    "# loading the training set\n",
    "train_it = datagen.flow_from_directory('data/fruits/train/', \n",
    "                                       target_size=(224,224), \n",
    "                                       color_mode='rgb', \n",
    "                                       class_mode=\"categorical\")\n",
    "# loading the validation set\n",
    "valid_it = datagen.flow_from_directory('data/fruits/valid/', \n",
    "                                      target_size=(224,224), \n",
    "                                      color_mode='rgb', \n",
    "                                      class_mode=\"categorical\")"
   ]
  },
  {
   "cell_type": "code",
   "execution_count": 9,
   "metadata": {
    "scrolled": true
   },
   "outputs": [
    {
     "name": "stdout",
     "output_type": "stream",
     "text": [
      "Epoch 1/20\n",
      "37/36 [==============================] - 30s 811ms/step - loss: 3.7741 - accuracy: 0.3985 - val_loss: 1.7582 - val_accuracy: 0.5289\n",
      "Epoch 2/20\n",
      "37/36 [==============================] - 19s 507ms/step - loss: 1.1105 - accuracy: 0.7107 - val_loss: 0.7918 - val_accuracy: 0.7690\n",
      "Epoch 3/20\n",
      "37/36 [==============================] - 19s 503ms/step - loss: 0.5687 - accuracy: 0.8409 - val_loss: 0.5274 - val_accuracy: 0.8237\n",
      "Epoch 4/20\n",
      "37/36 [==============================] - 19s 505ms/step - loss: 0.3966 - accuracy: 0.8824 - val_loss: 0.4821 - val_accuracy: 0.8754\n",
      "Epoch 5/20\n",
      "37/36 [==============================] - 19s 503ms/step - loss: 0.2527 - accuracy: 0.9188 - val_loss: 0.3720 - val_accuracy: 0.9088\n",
      "Epoch 6/20\n",
      "37/36 [==============================] - 19s 503ms/step - loss: 0.1902 - accuracy: 0.9349 - val_loss: 0.2753 - val_accuracy: 0.9210\n",
      "Epoch 7/20\n",
      "37/36 [==============================] - 19s 505ms/step - loss: 0.1378 - accuracy: 0.9560 - val_loss: 0.2190 - val_accuracy: 0.9301\n",
      "Epoch 8/20\n",
      "37/36 [==============================] - 19s 507ms/step - loss: 0.1449 - accuracy: 0.9535 - val_loss: 0.2583 - val_accuracy: 0.9027\n",
      "Epoch 9/20\n",
      "37/36 [==============================] - 19s 506ms/step - loss: 0.1079 - accuracy: 0.9628 - val_loss: 0.2696 - val_accuracy: 0.9331\n",
      "Epoch 10/20\n",
      "37/36 [==============================] - 19s 505ms/step - loss: 0.1015 - accuracy: 0.9653 - val_loss: 0.2432 - val_accuracy: 0.9331\n",
      "Epoch 11/20\n",
      "37/36 [==============================] - 18s 498ms/step - loss: 0.0935 - accuracy: 0.9645 - val_loss: 0.1756 - val_accuracy: 0.9514\n",
      "Epoch 12/20\n",
      "37/36 [==============================] - 19s 503ms/step - loss: 0.0645 - accuracy: 0.9738 - val_loss: 0.2149 - val_accuracy: 0.9271\n",
      "Epoch 13/20\n",
      "37/36 [==============================] - 19s 504ms/step - loss: 0.0629 - accuracy: 0.9763 - val_loss: 0.1843 - val_accuracy: 0.9453\n",
      "Epoch 14/20\n",
      "37/36 [==============================] - 19s 503ms/step - loss: 0.0599 - accuracy: 0.9738 - val_loss: 0.2060 - val_accuracy: 0.9453\n",
      "Epoch 15/20\n",
      "37/36 [==============================] - 19s 504ms/step - loss: 0.0550 - accuracy: 0.9797 - val_loss: 0.1315 - val_accuracy: 0.9453\n",
      "Epoch 16/20\n",
      "37/36 [==============================] - 19s 502ms/step - loss: 0.0392 - accuracy: 0.9865 - val_loss: 0.2356 - val_accuracy: 0.9331\n",
      "Epoch 17/20\n",
      "37/36 [==============================] - 19s 504ms/step - loss: 0.0382 - accuracy: 0.9856 - val_loss: 0.1256 - val_accuracy: 0.9696\n",
      "Epoch 18/20\n",
      "37/36 [==============================] - 19s 506ms/step - loss: 0.0501 - accuracy: 0.9814 - val_loss: 0.1454 - val_accuracy: 0.9605\n",
      "Epoch 19/20\n",
      "37/36 [==============================] - 19s 503ms/step - loss: 0.0299 - accuracy: 0.9882 - val_loss: 0.1587 - val_accuracy: 0.9514\n",
      "Epoch 20/20\n",
      "37/36 [==============================] - 19s 502ms/step - loss: 0.0340 - accuracy: 0.9882 - val_loss: 0.2026 - val_accuracy: 0.9453\n"
     ]
    },
    {
     "data": {
      "text/plain": [
       "<tensorflow.python.keras.callbacks.History at 0x7f18cc0c9160>"
      ]
     },
     "execution_count": 9,
     "metadata": {},
     "output_type": "execute_result"
    }
   ],
   "source": [
    "model.fit(train_it,\n",
    "          validation_data=valid_it,\n",
    "          steps_per_epoch=train_it.samples/train_it.batch_size,\n",
    "          validation_steps=valid_it.samples/valid_it.batch_size,\n",
    "          epochs=20)"
   ]
  },
  {
   "cell_type": "code",
   "execution_count": 10,
   "metadata": {},
   "outputs": [
    {
     "name": "stdout",
     "output_type": "stream",
     "text": [
      "11/10 [================================] - 4s 330ms/step - loss: 0.1901 - accuracy: 0.9514\n"
     ]
    },
    {
     "data": {
      "text/plain": [
       "[0.1900564283132553, 0.9513677954673767]"
      ]
     },
     "execution_count": 10,
     "metadata": {},
     "output_type": "execute_result"
    }
   ],
   "source": [
    "model.evaluate(valid_it, steps=valid_it.samples/valid_it.batch_size)"
   ]
  }
 ],
 "metadata": {
  "kernelspec": {
   "display_name": "Python 3 (ipykernel)",
   "language": "python",
   "name": "python3"
  },
  "language_info": {
   "codemirror_mode": {
    "name": "ipython",
    "version": 3
   },
   "file_extension": ".py",
   "mimetype": "text/x-python",
   "name": "python",
   "nbconvert_exporter": "python",
   "pygments_lexer": "ipython3",
   "version": "3.9.6"
  }
 },
 "nbformat": 4,
 "nbformat_minor": 4
}
